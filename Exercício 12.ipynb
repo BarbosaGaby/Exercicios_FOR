{
  "nbformat": 4,
  "nbformat_minor": 0,
  "metadata": {
    "colab": {
      "provenance": []
    },
    "kernelspec": {
      "name": "python3",
      "display_name": "Python 3"
    },
    "language_info": {
      "name": "python"
    }
  },
  "cells": [
    {
      "cell_type": "code",
      "execution_count": 50,
      "metadata": {
        "colab": {
          "base_uri": "https://localhost:8080/"
        },
        "id": "uxk2Rtx98xEM",
        "outputId": "2c96279b-562b-4565-e2eb-8d69dba24df0"
      },
      "outputs": [
        {
          "output_type": "stream",
          "name": "stdout",
          "text": [
            "Digite sua nota 55\n",
            "valor invalido, tente novamente.\n",
            "Digite sua nota 89\n",
            "valor invalido, tente novamente.\n",
            "Digite sua nota 10\n",
            "Valor valido.\n"
          ]
        }
      ],
      "source": [
        "#Exercício 12:\n",
        "#Faça um programa que peça uma nota entre zero e dez.\n",
        "#Mostre uma mensagem caso o valor seja inválido e continue pedindo até que o usuário\n",
        "#informe um valor válido.\n",
        "\n",
        "\n",
        "for e in range(999999):\n",
        "  x= int(input(\"Digite sua nota \"))\n",
        "  if x > 10 or x < 0:\n",
        "   print(\"valor invalido, tente novamente.\")\n",
        "  else:\n",
        "   print( \"Valor valido.\")\n",
        "   break\n"
      ]
    }
  ]
}