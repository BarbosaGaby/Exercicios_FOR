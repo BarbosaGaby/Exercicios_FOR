{
  "nbformat": 4,
  "nbformat_minor": 0,
  "metadata": {
    "colab": {
      "provenance": []
    },
    "kernelspec": {
      "name": "python3",
      "display_name": "Python 3"
    },
    "language_info": {
      "name": "python"
    }
  },
  "cells": [
    {
      "cell_type": "code",
      "execution_count": 24,
      "metadata": {
        "colab": {
          "base_uri": "https://localhost:8080/"
        },
        "id": "uxk2Rtx98xEM",
        "outputId": "589c6a27-cef7-4c4b-ec60-34df09763796"
      },
      "outputs": [
        {
          "output_type": "stream",
          "name": "stdout",
          "text": [
            "digite o numero 18\n",
            "digite o numero 69\n",
            "digite o numero 35\n",
            "digite o numero 22\n",
            "digite o numero 01\n",
            "O maior numero é  69.0\n"
          ]
        }
      ],
      "source": [
        "#Exercício 1:Faça um programa que leia 5 números e informe o maior número.\n",
        "maior_numero= 0\n",
        "for i in range(5): #rode esse codigo 5 vezes\n",
        "  numero= float(input( \"digite o numero \"))\n",
        "  if numero > maior_numero:\n",
        "    maior_numero = numero\n",
        "print(\"O maior numero é \", maior_numero)\n"
      ]
    }
  ]
}