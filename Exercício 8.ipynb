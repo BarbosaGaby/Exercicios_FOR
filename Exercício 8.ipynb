{
  "nbformat": 4,
  "nbformat_minor": 0,
  "metadata": {
    "colab": {
      "provenance": []
    },
    "kernelspec": {
      "name": "python3",
      "display_name": "Python 3"
    },
    "language_info": {
      "name": "python"
    }
  },
  "cells": [
    {
      "cell_type": "code",
      "execution_count": 45,
      "metadata": {
        "colab": {
          "base_uri": "https://localhost:8080/"
        },
        "id": "uxk2Rtx98xEM",
        "outputId": "029193b2-8e4c-4bc5-cddd-b484849aa590"
      },
      "outputs": [
        {
          "output_type": "stream",
          "name": "stdout",
          "text": [
            "digite o primeiro numero 9\n",
            "digite o segundo numero 5\n",
            "6\n",
            "7\n",
            "8\n"
          ]
        }
      ],
      "source": [
        "#Exercício 8:\n",
        "#Faça um programa que receba dois números inteiros e gere os números inteiros que estão no intervalo compreendido por eles.\n",
        "\n",
        "\n",
        "ameixa= int(input( \"digite o primeiro numero \"))\n",
        "pessego= int(input( \"digite o segundo numero \"))\n",
        "\n",
        "\n",
        "for cacto in range(ameixa+1,pessego):\n",
        "  print(cacto)\n",
        "for tulipa in range(pessego+1, ameixa):\n",
        "  print(tulipa)\n",
        "\n"
      ]
    }
  ]
}