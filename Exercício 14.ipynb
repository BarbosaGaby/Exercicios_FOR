{
  "nbformat": 4,
  "nbformat_minor": 0,
  "metadata": {
    "colab": {
      "provenance": []
    },
    "kernelspec": {
      "name": "python3",
      "display_name": "Python 3"
    },
    "language_info": {
      "name": "python"
    }
  },
  "cells": [
    {
      "cell_type": "code",
      "execution_count": 52,
      "metadata": {
        "colab": {
          "base_uri": "https://localhost:8080/"
        },
        "id": "uxk2Rtx98xEM",
        "outputId": "7b73bcee-a8c4-4768-8860-851fb82c8242"
      },
      "outputs": [
        {
          "output_type": "stream",
          "name": "stdout",
          "text": [
            "Digite a sua idade 11\n",
            "Digite a sua idade 18\n",
            "Digite a sua idade 20\n",
            "Digite a sua idade 33\n",
            "Digite a sua idade 47\n",
            "Digite a sua idade 89\n",
            "Digite a sua idade 60\n",
            "Digite a sua idade 51\n",
            "Digite a sua idade 32\n",
            "Digite a sua idade 44\n",
            "Digite a sua idade 28\n",
            "Digite a sua idade 15\n",
            "Digite a sua idade 5\n",
            "Digite a sua idade 12\n",
            "Digite a sua idade 72\n",
            "------------------------------------------------------------\n",
            "  Quantidade de pessoas em cada faixa etaria:  \n",
            "                                                            \n",
            "ATÉ 15 ANOS: 4 com o percentual de 26.666666666666668%.\n",
            "DE 16 A 30 ANOS: 3 pessoas.\n",
            "DE 31 A 45 ANOS: 3 pessoas.\n",
            "DE 46 A 60 ANOS: 3 pessoas.\n",
            "ACIMA DE 61 ANOS: 2 com o percentual de 13.333333333333334%.\n",
            "------------------------------------------------------------\n"
          ]
        }
      ],
      "source": [
        "#Exercício 14:\n",
        "#[OK]Faça um programa que receba a idade de 15 pessoas, que calcule e mostre:\n",
        "#[OK]A quantidade de pessoas em cada faixa etária;\n",
        "#[OK]A percentagem de pessoas na primeira e na última faixa etária, com relação ao total de pessoas:\n",
        "#Até 15 anos\n",
        "#De 16 a 30 anos\n",
        "#De 31 a 45 anos\n",
        "#De 46 a 60 anos\n",
        "#Acima de 61 anos\n",
        "\n",
        "\n",
        "ate_15 = 0\n",
        "de16_30 = 0\n",
        "de31_45 = 0\n",
        "de46_60 = 0\n",
        "acima_61 = 0\n",
        "for mar in range(15):\n",
        "  idade = int(input(\"Digite a sua idade \"))\n",
        "\n",
        "\n",
        "  if idade <= 15:\n",
        "     ate_15 +=1\n",
        "  elif idade >15 and idade <31:\n",
        "       de16_30 +=1\n",
        "  elif idade >30 and idade <46:\n",
        "       de31_45 +=1\n",
        "  elif idade >45 and idade <61:\n",
        "       de46_60 +=1\n",
        "  else:\n",
        "       acima_61 += 1\n",
        "\n",
        "\n",
        "porcentagem_total = ate_15 + de16_30 + de31_45 + de46_60 + acima_61\n",
        "percentual_ate_15 = (ate_15/porcentagem_total)*100\n",
        "percentual_acima_61 = (acima_61/porcentagem_total)*100\n",
        "print(\"-\" * 60)\n",
        "print(\"  Quantidade de pessoas em cada faixa etaria:  \")\n",
        "print(\" \" *60)\n",
        "print(f\"ATÉ 15 ANOS: {ate_15} com o percentual de {percentual_ate_15}%.\")\n",
        "print(f\"DE 16 A 30 ANOS: {de16_30} pessoas.\")\n",
        "print(f\"DE 31 A 45 ANOS: {de31_45} pessoas.\")\n",
        "print(f\"DE 46 A 60 ANOS: {de46_60} pessoas.\")\n",
        "print(f\"ACIMA DE 61 ANOS: {acima_61} com o percentual de {percentual_acima_61}%.\")\n",
        "print(\"-\" * 60)\n",
        "\n"
      ]
    }
  ]
}