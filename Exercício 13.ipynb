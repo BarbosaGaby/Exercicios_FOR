{
  "nbformat": 4,
  "nbformat_minor": 0,
  "metadata": {
    "colab": {
      "provenance": []
    },
    "kernelspec": {
      "name": "python3",
      "display_name": "Python 3"
    },
    "language_info": {
      "name": "python"
    }
  },
  "cells": [
    {
      "cell_type": "code",
      "execution_count": 51,
      "metadata": {
        "colab": {
          "base_uri": "https://localhost:8080/"
        },
        "id": "uxk2Rtx98xEM",
        "outputId": "0ef688ee-3056-44fa-d2cd-2c3ad87b4f0f"
      },
      "outputs": [
        {
          "output_type": "stream",
          "name": "stdout",
          "text": [
            "Digite o valor da compra 1000\n",
            "O produto de R$ 1000.00 ficara a partir de R$940.0 com 6% de desconto\n"
          ]
        }
      ],
      "source": [
        "#Exercício 13:\n",
        "#Uma loja tem tem uma política de descontos de acordo com o valor da compra do cliente. Os descontos começam acima dos R$500.\n",
        "#A cada 100 reais acima dos R$500,00 o cliente ganha 1% de desconto cumulativo até 25%.\n",
        "#Por exemplo: R$500 = 1% || R$600,00 = 2% ... etc...\n",
        "#Faça um programa que exiba essa tabela de descontos no seguinte formato:\n",
        "#Valordacompra – porcentagem de desconto – valor final\n",
        "\n",
        "valor = float(input(\"Digite o valor da compra \"))\n",
        "contagem = 1\n",
        "\n",
        "\n",
        "if valor >= 600 and contagem:\n",
        " reduzido = valor - 500\n",
        " if reduzido >= 100 or contagem <= 24:\n",
        "  for x in range(999):\n",
        "   contagem += 1\n",
        "   reduzido -= 100\n",
        "   if reduzido < 100 or contagem == 24:\n",
        "    break\n",
        "\n",
        "\n",
        "porcentagem = contagem/100\n",
        "desconto = valor * porcentagem\n",
        "final = valor - desconto\n",
        "print(f\"O produto de R$ {valor:.2f} ficara a partir de R${final} com {contagem:.0f}% de desconto\")\n",
        "\n"
      ]
    }
  ]
}