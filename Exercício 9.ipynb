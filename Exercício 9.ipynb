{
  "nbformat": 4,
  "nbformat_minor": 0,
  "metadata": {
    "colab": {
      "provenance": []
    },
    "kernelspec": {
      "name": "python3",
      "display_name": "Python 3"
    },
    "language_info": {
      "name": "python"
    }
  },
  "cells": [
    {
      "cell_type": "code",
      "execution_count": 46,
      "metadata": {
        "colab": {
          "base_uri": "https://localhost:8080/"
        },
        "id": "uxk2Rtx98xEM",
        "outputId": "801ec0c0-5ce3-4ec8-fd69-8e54696753d8"
      },
      "outputs": [
        {
          "output_type": "stream",
          "name": "stdout",
          "text": [
            "Digite o valor gasto do cliente 1 500\n",
            "Digite o valor gasto do cliente 2 5536\n",
            "Digite o valor gasto do cliente 3 100\n",
            "Digite o valor gasto do cliente 4 988\n",
            "Digite o valor gasto do cliente 5 4000\n",
            " A loja b superou o faturamento da loja a por 42876.0 R$ \n"
          ]
        }
      ],
      "source": [
        "#Exercício 9:\n",
        "#Uma loja deseja cadastrar 5 clientes e verificar se o faturamento da loja foi superior a loja B (faturamento = 54000).\n",
        "# Se o faturamento atingir esse valor mostre na tela uma mensagem contendo em quanto foi superado o faturamento.\n",
        "\n",
        "lojab = 54000\n",
        "lojaa = 0\n",
        "\n",
        "\n",
        "for cliente in range(5):\n",
        "  gasto = float(input(f\"Digite o valor gasto do cliente {cliente+1} \"))\n",
        "  lojaa += gasto\n",
        "\n",
        "\n",
        "if lojaa > lojab:\n",
        "  print(f\" A loja a superou o faturamento da loja b por {lojaa - lojab} R$ \")\n",
        "elif lojab > lojaa:\n",
        "  print(f\" A loja b superou o faturamento da loja a por {lojab - lojaa} R$ \")\n",
        "else:\n",
        "  print(\"As duas lojas arrecadaram o mesmo valor.\")\n",
        "\n"
      ]
    }
  ]
}