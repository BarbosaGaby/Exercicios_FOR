{
  "nbformat": 4,
  "nbformat_minor": 0,
  "metadata": {
    "colab": {
      "provenance": []
    },
    "kernelspec": {
      "name": "python3",
      "display_name": "Python 3"
    },
    "language_info": {
      "name": "python"
    }
  },
  "cells": [
    {
      "cell_type": "code",
      "execution_count": 47,
      "metadata": {
        "colab": {
          "base_uri": "https://localhost:8080/"
        },
        "id": "uxk2Rtx98xEM",
        "outputId": "2aac10ec-2020-4967-9573-0d2f9c9f78e1"
      },
      "outputs": [
        {
          "output_type": "stream",
          "name": "stdout",
          "text": [
            "Digite o 1º numero 2\n",
            "Digite o 2º numero 9\n",
            "Digite o 3º numero 6\n",
            "Digite o 4º numero 2\n",
            "Digite o 5º numero 8\n",
            "Digite o 6º numero 7\n",
            "Digite o 7º numero 11\n",
            "Digite o 8º numero 3\n",
            "Digite o 9º numero 4\n",
            "Digite o 10º numero 5\n",
            "numeros impares: 5, numeros pares: 5\n"
          ]
        }
      ],
      "source": [
        "#Exercício 10:\n",
        "#Faça um programa que peça 10 números inteiros, calcule e mostre a quantidade de números pares e a quantidade de números impares.\n",
        "par = 0\n",
        "impar = 0\n",
        "\n",
        "\n",
        "for bebel in range(10):\n",
        "  numero= int(input(f\"Digite o {bebel+1}º numero \"))\n",
        "  if numero %2 == 0:\n",
        "    par +=1\n",
        "\n",
        "\n",
        "  else:\n",
        "    impar +=1\n",
        "\n",
        "\n",
        "print(f\"numeros impares: {impar}, numeros pares: {par}\")\n",
        "\n",
        "\n"
      ]
    }
  ]
}