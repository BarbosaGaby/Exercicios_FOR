{
  "nbformat": 4,
  "nbformat_minor": 0,
  "metadata": {
    "colab": {
      "provenance": []
    },
    "kernelspec": {
      "name": "python3",
      "display_name": "Python 3"
    },
    "language_info": {
      "name": "python"
    }
  },
  "cells": [
    {
      "cell_type": "code",
      "execution_count": 42,
      "metadata": {
        "colab": {
          "base_uri": "https://localhost:8080/"
        },
        "id": "uxk2Rtx98xEM",
        "outputId": "58384be5-1ed7-4eda-c1e4-5790345b4682"
      },
      "outputs": [
        {
          "output_type": "stream",
          "name": "stdout",
          "text": [
            "1\n",
            "2\n",
            "3\n",
            "4\n",
            "5\n",
            "6\n",
            "7\n",
            "8\n",
            "9\n",
            "10\n",
            "11\n",
            "12\n",
            "13\n",
            "14\n",
            "15\n",
            "16\n",
            "17\n",
            "18\n",
            "19\n",
            "20\n",
            "[1, 2, 3, 4, 5, 6, 7, 8, 9, 10, 11, 12, 13, 14, 15, 16, 17, 18, 19, 20]\n"
          ]
        }
      ],
      "source": [
        "#Exercício 6:\n",
        "#Faça um programa que imprima na tela os números de 1 a 20, um abaixo do outro.\n",
        "#Depois modifique o programa para que ele mostre os números um ao lado do outro.\n",
        "for contador1 in range(1,21):\n",
        "  print(contador1)\n",
        "print( list(range(1,21)))\n",
        "\n"
      ]
    }
  ]
}