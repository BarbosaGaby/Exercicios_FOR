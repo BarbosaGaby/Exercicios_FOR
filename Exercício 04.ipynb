{
  "nbformat": 4,
  "nbformat_minor": 0,
  "metadata": {
    "colab": {
      "provenance": []
    },
    "kernelspec": {
      "name": "python3",
      "display_name": "Python 3"
    },
    "language_info": {
      "name": "python"
    }
  },
  "cells": [
    {
      "cell_type": "code",
      "execution_count": 27,
      "metadata": {
        "colab": {
          "base_uri": "https://localhost:8080/"
        },
        "id": "uxk2Rtx98xEM",
        "outputId": "3a87924f-78b8-4c4c-fb0d-ee2edc9d1645"
      },
      "outputs": [
        {
          "output_type": "stream",
          "name": "stdout",
          "text": [
            "Digite o número que vc quer saber da tabuada 3\n",
            "0 X 3 = 0\n",
            "1 X 3 = 3\n",
            "2 X 3 = 6\n",
            "3 X 3 = 9\n",
            "4 X 3 = 12\n",
            "5 X 3 = 15\n",
            "6 X 3 = 18\n",
            "7 X 3 = 21\n",
            "8 X 3 = 24\n",
            "9 X 3 = 27\n",
            "10 X 3 = 30\n"
          ]
        }
      ],
      "source": [
        "#Exercício 4:\n",
        "#Faça um programa que receba um número e usando laços de repetição calcule e mostre a tabuada desse número.\n",
        "\n",
        "\n",
        "numero= int(input(\"Digite o número que vc quer saber da tabuada \"))\n",
        "for caqui in range(11):\n",
        "  x = caqui * numero\n",
        "  print(f\"{caqui} X {numero} = {x}\")\n",
        "\n"
      ]
    }
  ]
}