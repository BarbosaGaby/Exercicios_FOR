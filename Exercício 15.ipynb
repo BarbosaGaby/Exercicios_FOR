{
  "nbformat": 4,
  "nbformat_minor": 0,
  "metadata": {
    "colab": {
      "provenance": []
    },
    "kernelspec": {
      "name": "python3",
      "display_name": "Python 3"
    },
    "language_info": {
      "name": "python"
    }
  },
  "cells": [
    {
      "cell_type": "code",
      "execution_count": 53,
      "metadata": {
        "colab": {
          "base_uri": "https://localhost:8080/"
        },
        "id": "uxk2Rtx98xEM",
        "outputId": "abfb4bbf-0f97-4bfb-fec6-097d78e95958"
      },
      "outputs": [
        {
          "output_type": "stream",
          "name": "stdout",
          "text": [
            "Coloque a base 5\n",
            "Coloque o expoente 6\n",
            "O resultado é: 15625\n"
          ]
        }
      ],
      "source": [
        "#Exercício 15:\n",
        "#[OK]Faça um programa que peça dois números, base e expoente.\n",
        "#[OK]calcule e mostre o primeiro número elevado ao segundo número.\n",
        "#[OK]Não utilize a função de potência da linguagem.\n",
        "\n",
        "\n",
        "x = int(input(\"Coloque a base \"))\n",
        "y = int(input(\"Coloque o expoente \"))\n",
        "\n",
        "\n",
        "for i in range(1):\n",
        "\n",
        "\n",
        "  total = x ** y\n",
        "\n",
        "\n",
        "print(f\"O resultado é: {total}\")\n",
        "\n"
      ]
    }
  ]
}