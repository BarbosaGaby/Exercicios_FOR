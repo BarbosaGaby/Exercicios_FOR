{
  "nbformat": 4,
  "nbformat_minor": 0,
  "metadata": {
    "colab": {
      "provenance": []
    },
    "kernelspec": {
      "name": "python3",
      "display_name": "Python 3"
    },
    "language_info": {
      "name": "python"
    }
  },
  "cells": [
    {
      "cell_type": "code",
      "execution_count": 26,
      "metadata": {
        "colab": {
          "base_uri": "https://localhost:8080/"
        },
        "id": "uxk2Rtx98xEM",
        "outputId": "caa62ad5-07c9-4b2a-e320-8ab20c4d1630"
      },
      "outputs": [
        {
          "output_type": "stream",
          "name": "stdout",
          "text": [
            "Digite o 1º numero: 5\n",
            "Digite o 2º numero: 6\n",
            "Digite o 3º numero: 7\n",
            "Digite o 4º numero: 3\n",
            "Digite o 5º numero: 10\n",
            "A soma dos números é: 31.0\n",
            "A media dos números é: 6.2\n"
          ]
        }
      ],
      "source": [
        "#Exercício 3:\n",
        "#Faça um programa que leia 5 números e informe a soma e a média dos números.\n",
        "#Faça um programa que leia 5 números e informe a soma e a média dos numeros.\n",
        "soma = 0\n",
        "for i in range(5):\n",
        "  numero = float(input(f\"Digite o {i+1}º numero: \"))# o f permite eu colocar a variavel dentro do texto, sem que ele vire texto ( uma alternativa para a virgula. )\n",
        "  soma += numero #soma = soma + numero\n",
        "  media = soma/5\n",
        "\n",
        "\n",
        "print(f\"A soma dos números é: {soma}\")\n",
        "print(f\"A media dos números é: {media}\")\n"
      ]
    }
  ]
}