{
  "nbformat": 4,
  "nbformat_minor": 0,
  "metadata": {
    "colab": {
      "provenance": []
    },
    "kernelspec": {
      "name": "python3",
      "display_name": "Python 3"
    },
    "language_info": {
      "name": "python"
    }
  },
  "cells": [
    {
      "cell_type": "code",
      "execution_count": 56,
      "metadata": {
        "colab": {
          "base_uri": "https://localhost:8080/"
        },
        "id": "uxk2Rtx98xEM",
        "outputId": "1dde621e-6b60-4801-b7a0-5fea037e2d2f"
      },
      "outputs": [
        {
          "output_type": "stream",
          "name": "stdout",
          "text": [
            "Escreva algum numero inteiro: 7\n",
            "7 e primo e foram executadas 5 divisoes \n"
          ]
        }
      ],
      "source": [
        "#Exercício 16:\n",
        "#Faça um programa que mostre todos os primos entre 1 e N sendo N um número inteiro fornecido pelo usuário.\n",
        "#O programa deverá mostrar também o número de divisões que ele executou para encontrar os números primos.\n",
        "#Serão avaliados o funcionamento, o estilo e o número de testes (divisões) executados.\n",
        "\n",
        "numero = int(input(\"Escreva algum numero inteiro: \"))\n",
        "if numero == 1 or numero == 2:\n",
        "    print(f\"{numero} e primo, e nao foi preciso nenhuma divisao. \")\n",
        "elif numero % 2 == 0:\n",
        "    print(f\"{numero} nao e primo, e foi executado uma divisao para descobrir isso. \")\n",
        "else:\n",
        "    contador = 1\n",
        "    primo = True\n",
        "    for alvin in range(3, numero, 2 ):\n",
        "            contador +=1\n",
        "            if numero % alvin == 0:\n",
        "                primo = False\n",
        "                break\n",
        "    if primo:\n",
        "        print(f\"{numero} e primo e foram executadas {alvin} divisoes \")\n",
        "    else:\n",
        "        print(f\"{numero} nao e primo e foram executadas {alvin} divisoes |\")\n"
      ]
    }
  ]
}